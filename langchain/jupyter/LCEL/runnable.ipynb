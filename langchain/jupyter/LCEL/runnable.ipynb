{
 "cells": [
  {
   "cell_type": "markdown",
   "id": "06432a41-540a-4a55-b3fa-8665032e6127",
   "metadata": {},
   "source": [
    "## Runnable Interface 介绍与使用\n",
    "\n",
    "为了尽可能简化创建自定义链的过程，Langchain 实现了一个 **[Runnable](https://api.python.langchain.com/en/stable/runnables/langchain_core.runnables.base.Runnable.html#langchain_core.runnables.base.Runnable)** 协议。\n",
    "\n",
    "许多 LangChain 组件都实现了 Runnable 协议，包括 chat models, LLMs, output parsers, retrievers, prompt templates等等。此外，还有几个用于处理可运行对象的[有用原语](https://python.langchain.com/v0.1/docs/expression_language/primitives/)。\n",
    "\n",
    "Runnable 是一个标准接口，包括：\n",
    "\n",
    "- stream：流式返回生成内容（chunk）\n",
    "- invoke：对输入调用该链\n",
    "- batch：对输入列表调用该链\n",
    "\n",
    "不同组件的输入和输出类型有所差异:\n",
    "\n",
    "| 组件    | 输入类型                                           | 输出类型           |\n",
    "| ------------ | ----------------------------------------------------- | --------------------- |\n",
    "| Prompt       | Dictionary                                            | PromptValue           |\n",
    "| ChatModel    | Single string, list of chat messages or a PromptValue | ChatMessage           |\n",
    "| LLM          | Single string, list of chat messages or a PromptValue | String                |\n",
    "| OutputParser | The output of an LLM or ChatModel                     | Depends on the parser |\n",
    "| Retriever    | Single string                                         | List of Documents     |\n",
    "| Tool         | Single string or dictionary, depending on the tool    | Depends on the tool   |\n",
    "\n",
    "\n",
    "所有 Runnable 对象都显式描述输入和输出 Schema，以检查输入和输出格式：\n",
    "\n",
    "- input_schema：从Runnable的结构自动生成的输入Pydantic模型\n",
    "- output_schema：从Runnable的结构自动生成的输出Pydantic模型 \n"
   ]
  },
  {
   "cell_type": "markdown",
   "id": "f03529a6-80f3-425a-988c-0f1b0dd17d3c",
   "metadata": {},
   "source": [
    "### Input Schema\n",
    "\n",
    "为了演示如何使用，下面我们创建一个超级简单的PromptTemplate + ChatModel链。"
   ]
  },
  {
   "cell_type": "code",
   "execution_count": 1,
   "id": "69a3f4fd-e4dc-45ac-a9cf-a36b5791aafc",
   "metadata": {},
   "outputs": [],
   "source": [
    "from langchain_openai import ChatOpenAI\n",
    "from langchain_core.prompts import ChatPromptTemplate\n",
    "\n",
    "model = ChatOpenAI(model=\"gpt-4o-mini\")\n",
    "prompt = ChatPromptTemplate.from_template(\"讲个关于 {topic} 的笑话吧\")\n",
    "chain = prompt | model"
   ]
  },
  {
   "cell_type": "markdown",
   "id": "9e5bb871-a240-429b-b622-23a65f5b4af2",
   "metadata": {},
   "source": [
    "#### schema 方法\n",
    "\n",
    "一个描述 Runnable 接受的输入的说明。这是根据任何 Runnable 结构动态生成的 Pydantic 模型。您可以调用 .schema() 来获取 `JSONSchema` 表示。"
   ]
  },
  {
   "cell_type": "code",
   "execution_count": 2,
   "id": "15a39360-11de-407f-92bc-c372a5a8efb4",
   "metadata": {},
   "outputs": [
    {
     "data": {
      "text/plain": [
       "{'title': 'PromptInput',\n",
       " 'type': 'object',\n",
       " 'properties': {'topic': {'title': 'Topic', 'type': 'string'}}}"
      ]
     },
     "execution_count": 2,
     "metadata": {},
     "output_type": "execute_result"
    }
   ],
   "source": [
    "# 查看 Chain 的输入类型\n",
    "chain.input_schema.schema()"
   ]
  },
  {
   "cell_type": "code",
   "execution_count": 3,
   "id": "2b8fc874-0a36-404a-a627-72dfd50d719b",
   "metadata": {},
   "outputs": [
    {
     "data": {
      "text/plain": [
       "{'title': 'PromptInput',\n",
       " 'type': 'object',\n",
       " 'properties': {'topic': {'title': 'Topic', 'type': 'string'}}}"
      ]
     },
     "execution_count": 3,
     "metadata": {},
     "output_type": "execute_result"
    }
   ],
   "source": [
    "# 查看 Prompt 的输入类型（Chain的输入从 Prompt 开始，因此输入类型一致）\n",
    "prompt.input_schema.schema()"
   ]
  },
  {
   "cell_type": "code",
   "execution_count": 4,
   "id": "3a6077c1-4add-4d0a-a81b-b4b8dba1d950",
   "metadata": {},
   "outputs": [
    {
     "data": {
      "text/plain": [
       "{'title': 'ChatOpenAIInput',\n",
       " 'anyOf': [{'type': 'string'},\n",
       "  {'$ref': '#/definitions/StringPromptValue'},\n",
       "  {'$ref': '#/definitions/ChatPromptValueConcrete'},\n",
       "  {'type': 'array',\n",
       "   'items': {'anyOf': [{'$ref': '#/definitions/AIMessage'},\n",
       "     {'$ref': '#/definitions/HumanMessage'},\n",
       "     {'$ref': '#/definitions/ChatMessage'},\n",
       "     {'$ref': '#/definitions/SystemMessage'},\n",
       "     {'$ref': '#/definitions/FunctionMessage'},\n",
       "     {'$ref': '#/definitions/ToolMessage'}]}}],\n",
       " 'definitions': {'StringPromptValue': {'title': 'StringPromptValue',\n",
       "   'description': 'String prompt value.',\n",
       "   'type': 'object',\n",
       "   'properties': {'text': {'title': 'Text', 'type': 'string'},\n",
       "    'type': {'title': 'Type',\n",
       "     'default': 'StringPromptValue',\n",
       "     'enum': ['StringPromptValue'],\n",
       "     'type': 'string'}},\n",
       "   'required': ['text']},\n",
       "  'ToolCall': {'title': 'ToolCall',\n",
       "   'type': 'object',\n",
       "   'properties': {'name': {'title': 'Name', 'type': 'string'},\n",
       "    'args': {'title': 'Args', 'type': 'object'},\n",
       "    'id': {'title': 'Id', 'type': 'string'}},\n",
       "   'required': ['name', 'args', 'id']},\n",
       "  'InvalidToolCall': {'title': 'InvalidToolCall',\n",
       "   'type': 'object',\n",
       "   'properties': {'name': {'title': 'Name', 'type': 'string'},\n",
       "    'args': {'title': 'Args', 'type': 'string'},\n",
       "    'id': {'title': 'Id', 'type': 'string'},\n",
       "    'error': {'title': 'Error', 'type': 'string'}},\n",
       "   'required': ['name', 'args', 'id', 'error']},\n",
       "  'AIMessage': {'title': 'AIMessage',\n",
       "   'description': 'Message from an AI.',\n",
       "   'type': 'object',\n",
       "   'properties': {'content': {'title': 'Content',\n",
       "     'anyOf': [{'type': 'string'},\n",
       "      {'type': 'array',\n",
       "       'items': {'anyOf': [{'type': 'string'}, {'type': 'object'}]}}]},\n",
       "    'additional_kwargs': {'title': 'Additional Kwargs', 'type': 'object'},\n",
       "    'response_metadata': {'title': 'Response Metadata', 'type': 'object'},\n",
       "    'type': {'title': 'Type',\n",
       "     'default': 'ai',\n",
       "     'enum': ['ai'],\n",
       "     'type': 'string'},\n",
       "    'name': {'title': 'Name', 'type': 'string'},\n",
       "    'id': {'title': 'Id', 'type': 'string'},\n",
       "    'example': {'title': 'Example', 'default': False, 'type': 'boolean'},\n",
       "    'tool_calls': {'title': 'Tool Calls',\n",
       "     'default': [],\n",
       "     'type': 'array',\n",
       "     'items': {'$ref': '#/definitions/ToolCall'}},\n",
       "    'invalid_tool_calls': {'title': 'Invalid Tool Calls',\n",
       "     'default': [],\n",
       "     'type': 'array',\n",
       "     'items': {'$ref': '#/definitions/InvalidToolCall'}}},\n",
       "   'required': ['content']},\n",
       "  'HumanMessage': {'title': 'HumanMessage',\n",
       "   'description': 'Message from a human.',\n",
       "   'type': 'object',\n",
       "   'properties': {'content': {'title': 'Content',\n",
       "     'anyOf': [{'type': 'string'},\n",
       "      {'type': 'array',\n",
       "       'items': {'anyOf': [{'type': 'string'}, {'type': 'object'}]}}]},\n",
       "    'additional_kwargs': {'title': 'Additional Kwargs', 'type': 'object'},\n",
       "    'response_metadata': {'title': 'Response Metadata', 'type': 'object'},\n",
       "    'type': {'title': 'Type',\n",
       "     'default': 'human',\n",
       "     'enum': ['human'],\n",
       "     'type': 'string'},\n",
       "    'name': {'title': 'Name', 'type': 'string'},\n",
       "    'id': {'title': 'Id', 'type': 'string'},\n",
       "    'example': {'title': 'Example', 'default': False, 'type': 'boolean'}},\n",
       "   'required': ['content']},\n",
       "  'ChatMessage': {'title': 'ChatMessage',\n",
       "   'description': 'Message that can be assigned an arbitrary speaker (i.e. role).',\n",
       "   'type': 'object',\n",
       "   'properties': {'content': {'title': 'Content',\n",
       "     'anyOf': [{'type': 'string'},\n",
       "      {'type': 'array',\n",
       "       'items': {'anyOf': [{'type': 'string'}, {'type': 'object'}]}}]},\n",
       "    'additional_kwargs': {'title': 'Additional Kwargs', 'type': 'object'},\n",
       "    'response_metadata': {'title': 'Response Metadata', 'type': 'object'},\n",
       "    'type': {'title': 'Type',\n",
       "     'default': 'chat',\n",
       "     'enum': ['chat'],\n",
       "     'type': 'string'},\n",
       "    'name': {'title': 'Name', 'type': 'string'},\n",
       "    'id': {'title': 'Id', 'type': 'string'},\n",
       "    'role': {'title': 'Role', 'type': 'string'}},\n",
       "   'required': ['content', 'role']},\n",
       "  'SystemMessage': {'title': 'SystemMessage',\n",
       "   'description': 'Message for priming AI behavior, usually passed in as the first of a sequence\\nof input messages.',\n",
       "   'type': 'object',\n",
       "   'properties': {'content': {'title': 'Content',\n",
       "     'anyOf': [{'type': 'string'},\n",
       "      {'type': 'array',\n",
       "       'items': {'anyOf': [{'type': 'string'}, {'type': 'object'}]}}]},\n",
       "    'additional_kwargs': {'title': 'Additional Kwargs', 'type': 'object'},\n",
       "    'response_metadata': {'title': 'Response Metadata', 'type': 'object'},\n",
       "    'type': {'title': 'Type',\n",
       "     'default': 'system',\n",
       "     'enum': ['system'],\n",
       "     'type': 'string'},\n",
       "    'name': {'title': 'Name', 'type': 'string'},\n",
       "    'id': {'title': 'Id', 'type': 'string'}},\n",
       "   'required': ['content']},\n",
       "  'FunctionMessage': {'title': 'FunctionMessage',\n",
       "   'description': 'Message for passing the result of executing a function back to a model.',\n",
       "   'type': 'object',\n",
       "   'properties': {'content': {'title': 'Content',\n",
       "     'anyOf': [{'type': 'string'},\n",
       "      {'type': 'array',\n",
       "       'items': {'anyOf': [{'type': 'string'}, {'type': 'object'}]}}]},\n",
       "    'additional_kwargs': {'title': 'Additional Kwargs', 'type': 'object'},\n",
       "    'response_metadata': {'title': 'Response Metadata', 'type': 'object'},\n",
       "    'type': {'title': 'Type',\n",
       "     'default': 'function',\n",
       "     'enum': ['function'],\n",
       "     'type': 'string'},\n",
       "    'name': {'title': 'Name', 'type': 'string'},\n",
       "    'id': {'title': 'Id', 'type': 'string'}},\n",
       "   'required': ['content', 'name']},\n",
       "  'ToolMessage': {'title': 'ToolMessage',\n",
       "   'description': 'Message for passing the result of executing a tool back to a model.',\n",
       "   'type': 'object',\n",
       "   'properties': {'content': {'title': 'Content',\n",
       "     'anyOf': [{'type': 'string'},\n",
       "      {'type': 'array',\n",
       "       'items': {'anyOf': [{'type': 'string'}, {'type': 'object'}]}}]},\n",
       "    'additional_kwargs': {'title': 'Additional Kwargs', 'type': 'object'},\n",
       "    'response_metadata': {'title': 'Response Metadata', 'type': 'object'},\n",
       "    'type': {'title': 'Type',\n",
       "     'default': 'tool',\n",
       "     'enum': ['tool'],\n",
       "     'type': 'string'},\n",
       "    'name': {'title': 'Name', 'type': 'string'},\n",
       "    'id': {'title': 'Id', 'type': 'string'},\n",
       "    'tool_call_id': {'title': 'Tool Call Id', 'type': 'string'}},\n",
       "   'required': ['content', 'tool_call_id']},\n",
       "  'ChatPromptValueConcrete': {'title': 'ChatPromptValueConcrete',\n",
       "   'description': 'Chat prompt value which explicitly lists out the message types it accepts.\\nFor use in external schemas.',\n",
       "   'type': 'object',\n",
       "   'properties': {'messages': {'title': 'Messages',\n",
       "     'type': 'array',\n",
       "     'items': {'anyOf': [{'$ref': '#/definitions/AIMessage'},\n",
       "       {'$ref': '#/definitions/HumanMessage'},\n",
       "       {'$ref': '#/definitions/ChatMessage'},\n",
       "       {'$ref': '#/definitions/SystemMessage'},\n",
       "       {'$ref': '#/definitions/FunctionMessage'},\n",
       "       {'$ref': '#/definitions/ToolMessage'}]}},\n",
       "    'type': {'title': 'Type',\n",
       "     'default': 'ChatPromptValueConcrete',\n",
       "     'enum': ['ChatPromptValueConcrete'],\n",
       "     'type': 'string'}},\n",
       "   'required': ['messages']}}}"
      ]
     },
     "execution_count": 4,
     "metadata": {},
     "output_type": "execute_result"
    }
   ],
   "source": [
    "# 查看 Model 的输入类型\n",
    "model.input_schema.schema()"
   ]
  },
  {
   "cell_type": "code",
   "execution_count": null,
   "id": "e7914531-4e20-4d62-b95d-72930ad6f3f0",
   "metadata": {},
   "outputs": [],
   "source": []
  },
  {
   "cell_type": "code",
   "execution_count": null,
   "id": "ff6d4c11-31b5-4edc-9a4b-611644aea24d",
   "metadata": {},
   "outputs": [],
   "source": []
  },
  {
   "cell_type": "markdown",
   "id": "db2bc6e0-0e6e-497d-bde3-3f24fa9ded77",
   "metadata": {},
   "source": [
    "### Output Schema\n",
    "\n",
    "输出类型仍然可以调用 .schema() 来获取其 `JSONSchema` 表示。"
   ]
  },
  {
   "cell_type": "code",
   "execution_count": 5,
   "id": "0bc07c2a-f9fb-4013-a7c3-6a74c2cb3754",
   "metadata": {},
   "outputs": [
    {
     "data": {
      "text/plain": [
       "{'title': 'ChatOpenAIOutput',\n",
       " 'anyOf': [{'$ref': '#/definitions/AIMessage'},\n",
       "  {'$ref': '#/definitions/HumanMessage'},\n",
       "  {'$ref': '#/definitions/ChatMessage'},\n",
       "  {'$ref': '#/definitions/SystemMessage'},\n",
       "  {'$ref': '#/definitions/FunctionMessage'},\n",
       "  {'$ref': '#/definitions/ToolMessage'}],\n",
       " 'definitions': {'ToolCall': {'title': 'ToolCall',\n",
       "   'type': 'object',\n",
       "   'properties': {'name': {'title': 'Name', 'type': 'string'},\n",
       "    'args': {'title': 'Args', 'type': 'object'},\n",
       "    'id': {'title': 'Id', 'type': 'string'}},\n",
       "   'required': ['name', 'args', 'id']},\n",
       "  'InvalidToolCall': {'title': 'InvalidToolCall',\n",
       "   'type': 'object',\n",
       "   'properties': {'name': {'title': 'Name', 'type': 'string'},\n",
       "    'args': {'title': 'Args', 'type': 'string'},\n",
       "    'id': {'title': 'Id', 'type': 'string'},\n",
       "    'error': {'title': 'Error', 'type': 'string'}},\n",
       "   'required': ['name', 'args', 'id', 'error']},\n",
       "  'AIMessage': {'title': 'AIMessage',\n",
       "   'description': 'Message from an AI.',\n",
       "   'type': 'object',\n",
       "   'properties': {'content': {'title': 'Content',\n",
       "     'anyOf': [{'type': 'string'},\n",
       "      {'type': 'array',\n",
       "       'items': {'anyOf': [{'type': 'string'}, {'type': 'object'}]}}]},\n",
       "    'additional_kwargs': {'title': 'Additional Kwargs', 'type': 'object'},\n",
       "    'response_metadata': {'title': 'Response Metadata', 'type': 'object'},\n",
       "    'type': {'title': 'Type',\n",
       "     'default': 'ai',\n",
       "     'enum': ['ai'],\n",
       "     'type': 'string'},\n",
       "    'name': {'title': 'Name', 'type': 'string'},\n",
       "    'id': {'title': 'Id', 'type': 'string'},\n",
       "    'example': {'title': 'Example', 'default': False, 'type': 'boolean'},\n",
       "    'tool_calls': {'title': 'Tool Calls',\n",
       "     'default': [],\n",
       "     'type': 'array',\n",
       "     'items': {'$ref': '#/definitions/ToolCall'}},\n",
       "    'invalid_tool_calls': {'title': 'Invalid Tool Calls',\n",
       "     'default': [],\n",
       "     'type': 'array',\n",
       "     'items': {'$ref': '#/definitions/InvalidToolCall'}}},\n",
       "   'required': ['content']},\n",
       "  'HumanMessage': {'title': 'HumanMessage',\n",
       "   'description': 'Message from a human.',\n",
       "   'type': 'object',\n",
       "   'properties': {'content': {'title': 'Content',\n",
       "     'anyOf': [{'type': 'string'},\n",
       "      {'type': 'array',\n",
       "       'items': {'anyOf': [{'type': 'string'}, {'type': 'object'}]}}]},\n",
       "    'additional_kwargs': {'title': 'Additional Kwargs', 'type': 'object'},\n",
       "    'response_metadata': {'title': 'Response Metadata', 'type': 'object'},\n",
       "    'type': {'title': 'Type',\n",
       "     'default': 'human',\n",
       "     'enum': ['human'],\n",
       "     'type': 'string'},\n",
       "    'name': {'title': 'Name', 'type': 'string'},\n",
       "    'id': {'title': 'Id', 'type': 'string'},\n",
       "    'example': {'title': 'Example', 'default': False, 'type': 'boolean'}},\n",
       "   'required': ['content']},\n",
       "  'ChatMessage': {'title': 'ChatMessage',\n",
       "   'description': 'Message that can be assigned an arbitrary speaker (i.e. role).',\n",
       "   'type': 'object',\n",
       "   'properties': {'content': {'title': 'Content',\n",
       "     'anyOf': [{'type': 'string'},\n",
       "      {'type': 'array',\n",
       "       'items': {'anyOf': [{'type': 'string'}, {'type': 'object'}]}}]},\n",
       "    'additional_kwargs': {'title': 'Additional Kwargs', 'type': 'object'},\n",
       "    'response_metadata': {'title': 'Response Metadata', 'type': 'object'},\n",
       "    'type': {'title': 'Type',\n",
       "     'default': 'chat',\n",
       "     'enum': ['chat'],\n",
       "     'type': 'string'},\n",
       "    'name': {'title': 'Name', 'type': 'string'},\n",
       "    'id': {'title': 'Id', 'type': 'string'},\n",
       "    'role': {'title': 'Role', 'type': 'string'}},\n",
       "   'required': ['content', 'role']},\n",
       "  'SystemMessage': {'title': 'SystemMessage',\n",
       "   'description': 'Message for priming AI behavior, usually passed in as the first of a sequence\\nof input messages.',\n",
       "   'type': 'object',\n",
       "   'properties': {'content': {'title': 'Content',\n",
       "     'anyOf': [{'type': 'string'},\n",
       "      {'type': 'array',\n",
       "       'items': {'anyOf': [{'type': 'string'}, {'type': 'object'}]}}]},\n",
       "    'additional_kwargs': {'title': 'Additional Kwargs', 'type': 'object'},\n",
       "    'response_metadata': {'title': 'Response Metadata', 'type': 'object'},\n",
       "    'type': {'title': 'Type',\n",
       "     'default': 'system',\n",
       "     'enum': ['system'],\n",
       "     'type': 'string'},\n",
       "    'name': {'title': 'Name', 'type': 'string'},\n",
       "    'id': {'title': 'Id', 'type': 'string'}},\n",
       "   'required': ['content']},\n",
       "  'FunctionMessage': {'title': 'FunctionMessage',\n",
       "   'description': 'Message for passing the result of executing a function back to a model.',\n",
       "   'type': 'object',\n",
       "   'properties': {'content': {'title': 'Content',\n",
       "     'anyOf': [{'type': 'string'},\n",
       "      {'type': 'array',\n",
       "       'items': {'anyOf': [{'type': 'string'}, {'type': 'object'}]}}]},\n",
       "    'additional_kwargs': {'title': 'Additional Kwargs', 'type': 'object'},\n",
       "    'response_metadata': {'title': 'Response Metadata', 'type': 'object'},\n",
       "    'type': {'title': 'Type',\n",
       "     'default': 'function',\n",
       "     'enum': ['function'],\n",
       "     'type': 'string'},\n",
       "    'name': {'title': 'Name', 'type': 'string'},\n",
       "    'id': {'title': 'Id', 'type': 'string'}},\n",
       "   'required': ['content', 'name']},\n",
       "  'ToolMessage': {'title': 'ToolMessage',\n",
       "   'description': 'Message for passing the result of executing a tool back to a model.',\n",
       "   'type': 'object',\n",
       "   'properties': {'content': {'title': 'Content',\n",
       "     'anyOf': [{'type': 'string'},\n",
       "      {'type': 'array',\n",
       "       'items': {'anyOf': [{'type': 'string'}, {'type': 'object'}]}}]},\n",
       "    'additional_kwargs': {'title': 'Additional Kwargs', 'type': 'object'},\n",
       "    'response_metadata': {'title': 'Response Metadata', 'type': 'object'},\n",
       "    'type': {'title': 'Type',\n",
       "     'default': 'tool',\n",
       "     'enum': ['tool'],\n",
       "     'type': 'string'},\n",
       "    'name': {'title': 'Name', 'type': 'string'},\n",
       "    'id': {'title': 'Id', 'type': 'string'},\n",
       "    'tool_call_id': {'title': 'Tool Call Id', 'type': 'string'}},\n",
       "   'required': ['content', 'tool_call_id']}}}"
      ]
     },
     "execution_count": 5,
     "metadata": {},
     "output_type": "execute_result"
    }
   ],
   "source": [
    "# 查看 Chain 的输出类型\n",
    "chain.output_schema.schema()"
   ]
  },
  {
   "cell_type": "markdown",
   "id": "dc971bb2-8279-4e38-a539-54cc41a5e4a5",
   "metadata": {},
   "source": [
    "### Stream\n",
    "\n",
    "使用 .stream() 方法查看（同步）流式输出结果"
   ]
  },
  {
   "cell_type": "code",
   "execution_count": 8,
   "id": "3cebbeb5-72e0-4606-8383-fa7efa6465bc",
   "metadata": {},
   "outputs": [
    {
     "name": "stdout",
     "output_type": "stream",
     "text": [
      "当然可以！这是一个关于程序员的笑话：\n",
      "\n",
      "为什么程序员总是喜欢在黑暗中工作？\n",
      "\n",
      "因为他们讨厌光明的错误（\"light bugs\"）！\n",
      "\n",
      "希望这个笑话能让你笑一笑！"
     ]
    }
   ],
   "source": [
    "for s in chain.stream({\"topic\": \"程序员\"}):\n",
    "    print(s.content, end=\"\", flush=True)"
   ]
  },
  {
   "cell_type": "markdown",
   "id": "444adacc-ee61-4c41-a2a0-c7a6278a6dea",
   "metadata": {},
   "source": [
    "### Invoke\n",
    "使用 .invoke() 方法单次（同步）调用"
   ]
  },
  {
   "cell_type": "code",
   "execution_count": 11,
   "id": "f8b68201-63a0-48f0-ae40-a835fb889c12",
   "metadata": {},
   "outputs": [
    {
     "data": {
      "text/plain": [
       "AIMessage(content='当然可以！这是一个关于程序员的笑话：\\n\\n有一天，一个程序员走进酒吧，点了一杯啤酒。酒保问他：“你喝酒吗？”程序员回答：“我不喝酒，我只喝代码！”\\n\\n酒保好奇地问：“那你怎么喝得下去呢？”\\n\\n程序员笑着说：“简单，我用错误调试器过滤掉所有的bug！”\\n\\n希望你喜欢这个笑话！', response_metadata={'token_usage': {'completion_tokens': 94, 'prompt_tokens': 18, 'total_tokens': 112}, 'model_name': 'gpt-4o-mini', 'system_fingerprint': 'fp_f33667828e', 'finish_reason': 'stop', 'logprobs': None}, id='run-640a2b4f-66d7-495b-a165-e77eec0c47ba-0')"
      ]
     },
     "execution_count": 11,
     "metadata": {},
     "output_type": "execute_result"
    }
   ],
   "source": [
    "chain.invoke({\"topic\": \"程序员\"})"
   ]
  },
  {
   "cell_type": "markdown",
   "id": "e16f0ec6-f2d6-4b75-ae6c-6e5e685a326b",
   "metadata": {},
   "source": [
    "### Batch\n",
    "使用 .batch() 方法（同步）批量调用"
   ]
  },
  {
   "cell_type": "code",
   "execution_count": 12,
   "id": "867e73cd-e59e-47d3-8284-d0b97eddc5a9",
   "metadata": {},
   "outputs": [
    {
     "data": {
      "text/plain": [
       "[AIMessage(content='当然可以！这是一个关于程序员的笑话：\\n\\n有一天，程序员和他的朋友去钓鱼。朋友问：“你希望钓到什么鱼？”\\n\\n程序员回答：“我希望钓到一个‘bug’。”\\n\\n朋友疑惑地问：“为什么？”\\n\\n程序员笑着说：“因为我只要把它修复了，就能获得一个‘patch’！” \\n\\n希望你喜欢这个笑话！', response_metadata={'token_usage': {'completion_tokens': 89, 'prompt_tokens': 18, 'total_tokens': 107}, 'model_name': 'gpt-4o-mini', 'system_fingerprint': 'fp_f33667828e', 'finish_reason': 'stop', 'logprobs': None}, id='run-3212674a-c3fc-43ed-92b9-4c58d810dc1e-0'),\n",
       " AIMessage(content='当然可以！这里有一个关于产品经理的笑话：\\n\\n有一天，一个产品经理走进一家咖啡店，点了一杯咖啡。店员问他：“要加糖吗？”\\n\\n产品经理回答：“我们能先进行一次用户调研吗？”\\n\\n店员愣了一下：“您是说，我先给您加糖，然后您再告诉我味道怎么样？”\\n\\n产品经理摇摇头：“不，我想要一个功能需求文档，说明加糖的利弊，以及用户反馈的分析。” \\n\\n店员无奈地说：“好的，那你等我写完这份文档，我再给你咖啡！”\\n\\n希望你喜欢这个笑话！', response_metadata={'token_usage': {'completion_tokens': 144, 'prompt_tokens': 16, 'total_tokens': 160}, 'model_name': 'gpt-4o-mini', 'system_fingerprint': 'fp_f33667828e', 'finish_reason': 'stop', 'logprobs': None}, id='run-abf9b144-6b30-4588-9bf1-54c1ba9c596e-0'),\n",
       " AIMessage(content='当然可以！这是一个关于测试经理的笑话：\\n\\n有一天，一位测试经理走进咖啡店，点了一杯咖啡。咖啡师问：“要不要加糖？”\\n\\n测试经理回答：“我不确定，你能给我一个测试版本吗？”\\n\\n咖啡师愣了一下，问：“测试版本是什么？”\\n\\n测试经理微笑着说：“就是让我先喝一口，看看味道再决定要不要加糖！”\\n\\n希望你喜欢这个笑话！', response_metadata={'token_usage': {'completion_tokens': 105, 'prompt_tokens': 18, 'total_tokens': 123}, 'model_name': 'gpt-4o-mini', 'system_fingerprint': 'fp_f33667828e', 'finish_reason': 'stop', 'logprobs': None}, id='run-11f82656-d07b-43f8-b8ca-96a9707df948-0')]"
      ]
     },
     "execution_count": 12,
     "metadata": {},
     "output_type": "execute_result"
    }
   ],
   "source": [
    "chain.batch([{\"topic\": \"程序员\"}, {\"topic\": \"产品经理\"}, {\"topic\": \"测试经理\"}])"
   ]
  },
  {
   "cell_type": "code",
   "execution_count": 13,
   "id": "99c55997-250a-4603-985b-674f33a39bf9",
   "metadata": {},
   "outputs": [],
   "source": [
    "messages = chain.batch([{\"topic\": \"程序员\"}, {\"topic\": \"产品经理\"}, {\"topic\": \"测试经理\"}])"
   ]
  },
  {
   "cell_type": "code",
   "execution_count": 14,
   "id": "7648e692-7581-4fc0-a453-52cb0e9484f4",
   "metadata": {},
   "outputs": [
    {
     "name": "stdout",
     "output_type": "stream",
     "text": [
      "笑话0:\n",
      "\n",
      "当然可以！这是一个关于程序员的笑话：\n",
      "\n",
      "有一天，一个程序员去参加一个聚会。他的朋友问他：“你为什么总是那么忙，没时间出来玩？”\n",
      "\n",
      "程序员回答：“我在修bug！”\n",
      "\n",
      "朋友疑惑地问：“那你修好了吗？”\n",
      "\n",
      "程序员叹了口气说：“修好了一个，又冒出来三个。” \n",
      "\n",
      "朋友调侃道：“那你还不如去玩，至少可以多交几个朋友！” \n",
      "\n",
      "程序员笑着说：“朋友太多也会有bug的！” \n",
      "\n",
      "希望这个笑话能让你开心！\n",
      "\n",
      "\n",
      "笑话1:\n",
      "\n",
      "当然可以！这里有一个关于产品经理的笑话：\n",
      "\n",
      "一个产品经理走进咖啡店，看到菜单上有“黑咖啡”和“加奶咖啡”两种选择。他对店员说：“我想要一种新的咖啡，既有黑咖啡的浓郁，又有加奶咖啡的顺滑。”\n",
      "\n",
      "店员想了想，回答：“那您要不要先试试黑咖啡，然后再加奶？”\n",
      "\n",
      "产品经理微笑着说：“不，这样太慢了！我想要的是‘一键咖啡’！”\n",
      "\n",
      "店员无奈地说：“好的，那您先付钱吧，‘一键咖啡’的支付方式还得等下个版本更新。”\n",
      "\n",
      "希望这个笑话能让你开心！\n",
      "\n",
      "\n",
      "笑话2:\n",
      "\n",
      "当然可以！这是一个关于测试经理的笑话：\n",
      "\n",
      "有一天，测试经理走进一个酒吧，点了一杯啤酒。酒保问他：“你要不要加点果汁？”\n",
      "\n",
      "测试经理回答：“不，我只想要纯粹的啤酒！”\n",
      "\n",
      "酒保又问：“那你要不要加点冰块？”\n",
      "\n",
      "测试经理摇摇头：“不，我只想要没有问题的啤酒！”\n",
      "\n",
      "酒保好奇地问：“那你怎么知道这杯啤酒没有问题？”\n",
      "\n",
      "测试经理自信地说：“因为我已经提前测试过了它的味道！”\n",
      "\n",
      "希望这个笑话能让你开心！\n",
      "\n",
      "\n"
     ]
    }
   ],
   "source": [
    "# 使用 StrOutputParser 来处理 Batch 批量输出\n",
    "from langchain_core.output_parsers import StrOutputParser\n",
    "\n",
    "output_parser = StrOutputParser()\n",
    "\n",
    "for idx, m in enumerate(messages):\n",
    "    print(f\"笑话{idx}:\\n\")\n",
    "    print(output_parser.invoke(m))\n",
    "    print(\"\\n\")"
   ]
  },
  {
   "cell_type": "code",
   "execution_count": null,
   "id": "cc1d9980-0d5a-4fe7-9a5a-5c6a7fbdfafe",
   "metadata": {},
   "outputs": [],
   "source": []
  },
  {
   "cell_type": "code",
   "execution_count": null,
   "id": "34e8436e-a647-4562-a2e2-efade07fa090",
   "metadata": {},
   "outputs": [],
   "source": []
  },
  {
   "cell_type": "code",
   "execution_count": null,
   "id": "285e2800-354e-4575-9f1c-d2d2a275de3e",
   "metadata": {},
   "outputs": [],
   "source": []
  },
  {
   "cell_type": "markdown",
   "id": "c0bfd2f7-586a-46f8-846a-2f0ea99be1d4",
   "metadata": {},
   "source": [
    "## 异步操作\n",
    "\n",
    "这些方法也有相应的异步方法，应与 `asyncio` 的 `await` 语法一起使用以进行并发操作：\n",
    "\n",
    "- astream：异步地流式返回生成内容（chunk）\n",
    "- ainvoke：异步地对输入调用该链\n",
    "- abatch：异步地对输入列表调用该链\n",
    "- astream_log: 在发生时会返回中间步骤，并且最终返回结果之外。\n",
    "- astream_events: beta 流式传输事件，在 langchain-core 0.1.14 中引入\n"
   ]
  },
  {
   "cell_type": "markdown",
   "id": "85c2d21e-17c7-42e4-905a-9c7e924b44fc",
   "metadata": {},
   "source": [
    "### Async Stream"
   ]
  },
  {
   "cell_type": "code",
   "execution_count": 16,
   "id": "0cbd50d5-8706-4105-8191-41278004c57a",
   "metadata": {},
   "outputs": [
    {
     "name": "stdout",
     "output_type": "stream",
     "text": [
      "当然可以！这是一个关于狗的笑话：\n",
      "\n",
      "有一天，一只狗走进了酒吧，跳上吧台，对 bartender 说：“给我来一杯啤酒！”\n",
      "\n",
      "bartender 惊讶地问：“你会说话？！”\n",
      "\n",
      "狗回答：“当然！我还是个很聪明的狗！我能做很多事情！”\n",
      "\n",
      "bartender 不敢相信，便问：“你能做什么呢？”\n",
      "\n",
      "狗自豪地说：“我能算数学，还能写诗，甚至还能给你讲个笑话！”\n",
      "\n",
      "bartender 兴奋地说：“好啊，那你给我讲个笑话！”\n",
      "\n",
      "狗想了想，终于开口：“为什么狗总是喜欢追车？”\n",
      "\n",
      "bartender 好奇地问：“为什么？”\n",
      "\n",
      "狗笑着说：“因为它们想知道，车里的人到底在做什么，为什么他们总是比我跑得快！”\n",
      "\n",
      "希望这个笑话能让你开心！"
     ]
    }
   ],
   "source": [
    "async for s in chain.astream({\"topic\": \"狗\"}):\n",
    "    print(s.content, end=\"\", flush=True)"
   ]
  },
  {
   "cell_type": "markdown",
   "id": "4718496f-ce02-4465-8757-3f6d6e48c063",
   "metadata": {},
   "source": [
    "### Async Invoke"
   ]
  },
  {
   "cell_type": "code",
   "execution_count": 18,
   "id": "dc1fceaf-15aa-44f1-9f31-81d82d64f43a",
   "metadata": {},
   "outputs": [
    {
     "data": {
      "text/plain": [
       "AIMessage(content='当然可以！这是一个关于程序员的笑话：\\n\\n有一天，程序员的妻子对他抱怨：“你总是埋头工作，根本不关心我！”\\n\\n程序员回答：“我在调试啊，调试！”\\n\\n妻子好奇地问：“调试什么？”\\n\\n程序员认真地说：“调试我的感情代码！”\\n\\n希望你喜欢这个笑话！', response_metadata={'token_usage': {'completion_tokens': 85, 'prompt_tokens': 18, 'total_tokens': 103}, 'model_name': 'gpt-4o-mini', 'system_fingerprint': 'fp_f33667828e', 'finish_reason': 'stop', 'logprobs': None}, id='run-29bed505-4809-44b7-a2d4-113d9a4347e0-0')"
      ]
     },
     "execution_count": 18,
     "metadata": {},
     "output_type": "execute_result"
    }
   ],
   "source": [
    "await chain.ainvoke({\"topic\": \"程序员\"})"
   ]
  },
  {
   "cell_type": "markdown",
   "id": "2b88f80e-0b9d-49b4-a44d-9f26f9da2819",
   "metadata": {},
   "source": [
    "### Async Batch"
   ]
  },
  {
   "cell_type": "code",
   "execution_count": 19,
   "id": "75f6493d-0b88-4584-89ac-63b60a21fb37",
   "metadata": {},
   "outputs": [
    {
     "data": {
      "text/plain": [
       "[AIMessage(content='当然可以！这里有一个关于程序员的笑话：\\n\\n有一天，一个程序员走进酒吧，点了一杯啤酒。喝完后，他发现自己忘记了钱包，于是他就问酒保：“我可以用代码来支付吗？”\\n\\n酒保愣了一下，回答：“当然不行！你不能用代码来支付账单！”\\n\\n程序员撇了撇嘴：“那我可以用‘调试’来支付吗？”\\n\\n酒保好奇地问：“调试是什么？”\\n\\n程序员微笑着说：“就是把错误都修复了，再让你给我打折！”\\n\\n希望你喜欢这个笑话！', response_metadata={'token_usage': {'completion_tokens': 139, 'prompt_tokens': 18, 'total_tokens': 157}, 'model_name': 'gpt-4o-mini', 'system_fingerprint': 'fp_f33667828e', 'finish_reason': 'stop', 'logprobs': None}, id='run-18750583-14a1-44b7-af56-ea142b0970f1-0'),\n",
       " AIMessage(content='当然可以！这是一个关于产品经理的笑话：\\n\\n有一天，一个产品经理走进了一家咖啡店，点了一杯咖啡。咖啡师问他：“您要什么样的咖啡？”\\n\\n产品经理想了想，回答说：“我要一杯用户反馈最好的咖啡，最好再加一点创新和灵活性！”\\n\\n咖啡师愣了一下，问：“那您要加糖吗？”\\n\\n产品经理说：“糖的添加要根据用户需求再决定，不过我希望能有一个AB测试来验证一下！”\\n\\n咖啡师无奈地说：“好吧，那我先给您来一杯水吧，等您做完测试再决定要不要加糖！”\\n\\n希望这个笑话能让你开心！', response_metadata={'token_usage': {'completion_tokens': 165, 'prompt_tokens': 16, 'total_tokens': 181}, 'model_name': 'gpt-4o-mini', 'system_fingerprint': 'fp_9722793223', 'finish_reason': 'stop', 'logprobs': None}, id='run-6a8729a7-71a9-40b4-9dd7-3ec6b3aaa0aa-0'),\n",
       " AIMessage(content='有一天，一位测试经理在团队会议上说：“大家好，今天我们要讨论一下如何提高我们的测试效率。”\\n\\n一个开发人员举手问：“那我们能不能把测试人员的工作直接交给代码？”\\n\\n测试经理微笑着回答：“当然可以，但结果可能会让你‘崩溃’！”\\n\\n全场哄笑，开发人员无奈地说：“看来我还是得把代码好好写完再交给你们测试。”', response_metadata={'token_usage': {'completion_tokens': 99, 'prompt_tokens': 18, 'total_tokens': 117}, 'model_name': 'gpt-4o-mini', 'system_fingerprint': 'fp_f33667828e', 'finish_reason': 'stop', 'logprobs': None}, id='run-19faf867-4f7b-464a-b369-519b578a3a30-0')]"
      ]
     },
     "execution_count": 19,
     "metadata": {},
     "output_type": "execute_result"
    }
   ],
   "source": [
    "await chain.abatch([{\"topic\": \"程序员\"}, {\"topic\": \"产品经理\"}, {\"topic\": \"测试经理\"}])"
   ]
  },
  {
   "cell_type": "code",
   "execution_count": null,
   "id": "63e40e27-a304-45ae-bc58-1d759e823671",
   "metadata": {},
   "outputs": [],
   "source": []
  }
 ],
 "metadata": {
  "kernelspec": {
   "display_name": "Python 3 (ipykernel)",
   "language": "python",
   "name": "python3"
  },
  "language_info": {
   "codemirror_mode": {
    "name": "ipython",
    "version": 3
   },
   "file_extension": ".py",
   "mimetype": "text/x-python",
   "name": "python",
   "nbconvert_exporter": "python",
   "pygments_lexer": "ipython3",
   "version": "3.10.14"
  }
 },
 "nbformat": 4,
 "nbformat_minor": 5
}
